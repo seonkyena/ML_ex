{
  "nbformat": 4,
  "nbformat_minor": 0,
  "metadata": {
    "colab": {
      "name": "ott.ipynb",
      "provenance": [],
      "mount_file_id": "1CmdHOpyKYJSaale-7rp5RMOjLbTh19lr",
      "authorship_tag": "ABX9TyNLzu9YX3bvkVP1BrVuFFPd",
      "include_colab_link": true
    },
    "kernelspec": {
      "name": "python3",
      "display_name": "Python 3"
    },
    "language_info": {
      "name": "python"
    }
  },
  "cells": [
    {
      "cell_type": "markdown",
      "metadata": {
        "id": "view-in-github",
        "colab_type": "text"
      },
      "source": [
        "<a href=\"https://colab.research.google.com/github/seonkyena/ML_ex/blob/master/ott.ipynb\" target=\"_parent\"><img src=\"https://colab.research.google.com/assets/colab-badge.svg\" alt=\"Open In Colab\"/></a>"
      ]
    },
    {
      "cell_type": "code",
      "execution_count": 1,
      "metadata": {
        "id": "nwAIeSSaxbzg"
      },
      "outputs": [],
      "source": [
        "import pandas as pd\n",
        "import numpy as np"
      ]
    },
    {
      "cell_type": "code",
      "source": [
        "movie_data = pd.read_csv('/content/drive/MyDrive/csv파일/movie_data.csv')\n",
        "movie_data.head()"
      ],
      "metadata": {
        "colab": {
          "base_uri": "https://localhost:8080/",
          "height": 406
        },
        "id": "X2H70S6hgrBw",
        "outputId": "9231f62b-5527-4d54-cc65-ca5df4c1c018"
      },
      "execution_count": 2,
      "outputs": [
        {
          "output_type": "execute_result",
          "data": {
            "text/html": [
              "\n",
              "  <div id=\"df-6e897500-90a2-4c15-adbf-50df5b98c67b\">\n",
              "    <div class=\"colab-df-container\">\n",
              "      <div>\n",
              "<style scoped>\n",
              "    .dataframe tbody tr th:only-of-type {\n",
              "        vertical-align: middle;\n",
              "    }\n",
              "\n",
              "    .dataframe tbody tr th {\n",
              "        vertical-align: top;\n",
              "    }\n",
              "\n",
              "    .dataframe thead th {\n",
              "        text-align: right;\n",
              "    }\n",
              "</style>\n",
              "<table border=\"1\" class=\"dataframe\">\n",
              "  <thead>\n",
              "    <tr style=\"text-align: right;\">\n",
              "      <th></th>\n",
              "      <th>title</th>\n",
              "      <th>year</th>\n",
              "      <th>kind</th>\n",
              "      <th>KMRB</th>\n",
              "      <th>genre</th>\n",
              "      <th>country</th>\n",
              "      <th>cast</th>\n",
              "      <th>director</th>\n",
              "      <th>runtime(min)</th>\n",
              "      <th>provider</th>\n",
              "    </tr>\n",
              "  </thead>\n",
              "  <tbody>\n",
              "    <tr>\n",
              "      <th>0</th>\n",
              "      <td>돈 룩 업(Don't Look Up)</td>\n",
              "      <td>2021</td>\n",
              "      <td>movie</td>\n",
              "      <td>15세이상관람가</td>\n",
              "      <td>코미디</td>\n",
              "      <td>미국</td>\n",
              "      <td>레오나르도 디카프리오, 제니퍼 로렌스, 롭 모건, 조나 힐, 마크 라이런스, 타일러...</td>\n",
              "      <td>아담 맥케이</td>\n",
              "      <td>139.0</td>\n",
              "      <td>넷플릭스</td>\n",
              "    </tr>\n",
              "    <tr>\n",
              "      <th>1</th>\n",
              "      <td>나 홀로 집에(Home Alone)</td>\n",
              "      <td>1990</td>\n",
              "      <td>movie</td>\n",
              "      <td>전체관람가</td>\n",
              "      <td>코미디, 어드벤처(모험), 가족</td>\n",
              "      <td>미국</td>\n",
              "      <td>맥컬리 컬킨, 조 페시, 다니엘 스턴, 존 허드, 로버츠 블로썸, 캐서린 오하라, ...</td>\n",
              "      <td>크리스 콜럼버스</td>\n",
              "      <td>105.0</td>\n",
              "      <td>디즈니+</td>\n",
              "    </tr>\n",
              "    <tr>\n",
              "      <th>2</th>\n",
              "      <td>매트릭스(The Matrix)</td>\n",
              "      <td>1999</td>\n",
              "      <td>movie</td>\n",
              "      <td>12세이상관람가</td>\n",
              "      <td>액션, SF</td>\n",
              "      <td>미국</td>\n",
              "      <td>키아누 리브스, 로렌스 피시번, 캐리 앤 모스, 휴고 위빙, 글로리아 포스터, 조 ...</td>\n",
              "      <td>릴리 워쇼스키, 라나 워쇼스키</td>\n",
              "      <td>136.0</td>\n",
              "      <td>웨이브, 왓챠, 쿠팡플레이, 티빙</td>\n",
              "    </tr>\n",
              "    <tr>\n",
              "      <th>3</th>\n",
              "      <td>기적(Miracle)</td>\n",
              "      <td>2021</td>\n",
              "      <td>movie</td>\n",
              "      <td>12세이상관람가</td>\n",
              "      <td>드라마</td>\n",
              "      <td>한국</td>\n",
              "      <td>박정민, 이성민, 임윤아, 이수경, 김강훈, 정문성, 김동현</td>\n",
              "      <td>이장훈</td>\n",
              "      <td>117.0</td>\n",
              "      <td>넷플릭스, 티빙</td>\n",
              "    </tr>\n",
              "    <tr>\n",
              "      <th>4</th>\n",
              "      <td>엔칸토: 마법의 세계(Encanto)</td>\n",
              "      <td>2021</td>\n",
              "      <td>movie</td>\n",
              "      <td>전체관람가</td>\n",
              "      <td>코미디, 어드벤처(모험), 애니메이션</td>\n",
              "      <td>미국, 콜롬비아</td>\n",
              "      <td>스테파니 비트리즈, 존 레귀자모, 다이앤 게레로, 제시카 대로우, 앤지 세페다, 윌...</td>\n",
              "      <td>재러드 부시, 바이론 하워드</td>\n",
              "      <td>109.0</td>\n",
              "      <td>디즈니+</td>\n",
              "    </tr>\n",
              "  </tbody>\n",
              "</table>\n",
              "</div>\n",
              "      <button class=\"colab-df-convert\" onclick=\"convertToInteractive('df-6e897500-90a2-4c15-adbf-50df5b98c67b')\"\n",
              "              title=\"Convert this dataframe to an interactive table.\"\n",
              "              style=\"display:none;\">\n",
              "        \n",
              "  <svg xmlns=\"http://www.w3.org/2000/svg\" height=\"24px\"viewBox=\"0 0 24 24\"\n",
              "       width=\"24px\">\n",
              "    <path d=\"M0 0h24v24H0V0z\" fill=\"none\"/>\n",
              "    <path d=\"M18.56 5.44l.94 2.06.94-2.06 2.06-.94-2.06-.94-.94-2.06-.94 2.06-2.06.94zm-11 1L8.5 8.5l.94-2.06 2.06-.94-2.06-.94L8.5 2.5l-.94 2.06-2.06.94zm10 10l.94 2.06.94-2.06 2.06-.94-2.06-.94-.94-2.06-.94 2.06-2.06.94z\"/><path d=\"M17.41 7.96l-1.37-1.37c-.4-.4-.92-.59-1.43-.59-.52 0-1.04.2-1.43.59L10.3 9.45l-7.72 7.72c-.78.78-.78 2.05 0 2.83L4 21.41c.39.39.9.59 1.41.59.51 0 1.02-.2 1.41-.59l7.78-7.78 2.81-2.81c.8-.78.8-2.07 0-2.86zM5.41 20L4 18.59l7.72-7.72 1.47 1.35L5.41 20z\"/>\n",
              "  </svg>\n",
              "      </button>\n",
              "      \n",
              "  <style>\n",
              "    .colab-df-container {\n",
              "      display:flex;\n",
              "      flex-wrap:wrap;\n",
              "      gap: 12px;\n",
              "    }\n",
              "\n",
              "    .colab-df-convert {\n",
              "      background-color: #E8F0FE;\n",
              "      border: none;\n",
              "      border-radius: 50%;\n",
              "      cursor: pointer;\n",
              "      display: none;\n",
              "      fill: #1967D2;\n",
              "      height: 32px;\n",
              "      padding: 0 0 0 0;\n",
              "      width: 32px;\n",
              "    }\n",
              "\n",
              "    .colab-df-convert:hover {\n",
              "      background-color: #E2EBFA;\n",
              "      box-shadow: 0px 1px 2px rgba(60, 64, 67, 0.3), 0px 1px 3px 1px rgba(60, 64, 67, 0.15);\n",
              "      fill: #174EA6;\n",
              "    }\n",
              "\n",
              "    [theme=dark] .colab-df-convert {\n",
              "      background-color: #3B4455;\n",
              "      fill: #D2E3FC;\n",
              "    }\n",
              "\n",
              "    [theme=dark] .colab-df-convert:hover {\n",
              "      background-color: #434B5C;\n",
              "      box-shadow: 0px 1px 3px 1px rgba(0, 0, 0, 0.15);\n",
              "      filter: drop-shadow(0px 1px 2px rgba(0, 0, 0, 0.3));\n",
              "      fill: #FFFFFF;\n",
              "    }\n",
              "  </style>\n",
              "\n",
              "      <script>\n",
              "        const buttonEl =\n",
              "          document.querySelector('#df-6e897500-90a2-4c15-adbf-50df5b98c67b button.colab-df-convert');\n",
              "        buttonEl.style.display =\n",
              "          google.colab.kernel.accessAllowed ? 'block' : 'none';\n",
              "\n",
              "        async function convertToInteractive(key) {\n",
              "          const element = document.querySelector('#df-6e897500-90a2-4c15-adbf-50df5b98c67b');\n",
              "          const dataTable =\n",
              "            await google.colab.kernel.invokeFunction('convertToInteractive',\n",
              "                                                     [key], {});\n",
              "          if (!dataTable) return;\n",
              "\n",
              "          const docLinkHtml = 'Like what you see? Visit the ' +\n",
              "            '<a target=\"_blank\" href=https://colab.research.google.com/notebooks/data_table.ipynb>data table notebook</a>'\n",
              "            + ' to learn more about interactive tables.';\n",
              "          element.innerHTML = '';\n",
              "          dataTable['output_type'] = 'display_data';\n",
              "          await google.colab.output.renderOutput(dataTable, element);\n",
              "          const docLink = document.createElement('div');\n",
              "          docLink.innerHTML = docLinkHtml;\n",
              "          element.appendChild(docLink);\n",
              "        }\n",
              "      </script>\n",
              "    </div>\n",
              "  </div>\n",
              "  "
            ],
            "text/plain": [
              "                  title  year  ... runtime(min)            provider\n",
              "0  돈 룩 업(Don't Look Up)  2021  ...        139.0                넷플릭스\n",
              "1   나 홀로 집에(Home Alone)  1990  ...        105.0                디즈니+\n",
              "2      매트릭스(The Matrix)  1999  ...        136.0  웨이브, 왓챠, 쿠팡플레이, 티빙\n",
              "3           기적(Miracle)  2021  ...        117.0            넷플릭스, 티빙\n",
              "4  엔칸토: 마법의 세계(Encanto)  2021  ...        109.0                디즈니+\n",
              "\n",
              "[5 rows x 10 columns]"
            ]
          },
          "metadata": {},
          "execution_count": 2
        }
      ]
    },
    {
      "cell_type": "code",
      "source": [
        "platform = ['넷플릭스', '웨이브', '티빙', '쿠팡플레이', '왓챠', '디즈니+', 'seezn', '라프텔']"
      ],
      "metadata": {
        "id": "eJKWgBI00T8T"
      },
      "execution_count": 3,
      "outputs": []
    },
    {
      "cell_type": "code",
      "source": [
        "movie_data['genre']=movie_data['genre'].apply(lambda x: [i for i in x.split(', ')])\n",
        "movie_data['provider']=movie_data['provider'].apply(lambda x: [i for i in x.split(', ')])\n",
        "movie_data.genre.head()"
      ],
      "metadata": {
        "colab": {
          "base_uri": "https://localhost:8080/"
        },
        "id": "ZELLHlxQrl6I",
        "outputId": "d4ded083-5a17-4d93-cf9a-be4c2ec0ad07"
      },
      "execution_count": 4,
      "outputs": [
        {
          "output_type": "execute_result",
          "data": {
            "text/plain": [
              "0                     [코미디]\n",
              "1       [코미디, 어드벤처(모험), 가족]\n",
              "2                  [액션, SF]\n",
              "3                     [드라마]\n",
              "4    [코미디, 어드벤처(모험), 애니메이션]\n",
              "Name: genre, dtype: object"
            ]
          },
          "metadata": {},
          "execution_count": 4
        }
      ]
    },
    {
      "cell_type": "code",
      "source": [
        "genre_pop = [x for x in movie_data.iloc[:4].genre]\n",
        "genre_list = []\n",
        "for i in genre_pop:\n",
        "  for j in i:\n",
        "    genre_list.append(j)\n",
        "genre_list"
      ],
      "metadata": {
        "colab": {
          "base_uri": "https://localhost:8080/"
        },
        "id": "UErqov1mnHLU",
        "outputId": "564929ae-680f-45f1-a213-3bbb9e7ff385"
      },
      "execution_count": 5,
      "outputs": [
        {
          "output_type": "execute_result",
          "data": {
            "text/plain": [
              "['코미디', '코미디', '어드벤처(모험)', '가족', '액션', 'SF', '드라마']"
            ]
          },
          "metadata": {},
          "execution_count": 5
        }
      ]
    },
    {
      "cell_type": "code",
      "source": [
        "genre_rank = {}\n",
        "for i in genre_list:\n",
        "  genre_rank[i] = genre_list.count(i)\n",
        "genre_rank"
      ],
      "metadata": {
        "colab": {
          "base_uri": "https://localhost:8080/"
        },
        "id": "lPJTAU8sez1b",
        "outputId": "0c5f1581-e63d-4826-e275-b959e28c983d"
      },
      "execution_count": 6,
      "outputs": [
        {
          "output_type": "execute_result",
          "data": {
            "text/plain": [
              "{'SF': 1, '가족': 1, '드라마': 1, '액션': 1, '어드벤처(모험)': 1, '코미디': 2}"
            ]
          },
          "metadata": {},
          "execution_count": 6
        }
      ]
    },
    {
      "cell_type": "code",
      "source": [
        "s = []\n",
        "a = ['코미디', '가족', '드라마']\n",
        "\n",
        "\n",
        "for contents_genre in movie_data.genre:\n",
        "  cnt = 0\n",
        "  for cg in contents_genre:\n",
        "    if cg in list(genre_rank.keys()):\n",
        "      cnt += genre_rank[cg]\n",
        "  s.append(cnt)\n",
        "\n",
        "movie_data['genre_rank'] = s"
      ],
      "metadata": {
        "id": "Or6TjgW9g5E9"
      },
      "execution_count": 7,
      "outputs": []
    },
    {
      "cell_type": "code",
      "source": [
        "movie_ranking = movie_data.sort_values('genre_rank', ascending=False)\n",
        "movie_ranking = movie_ranking[movie_ranking['genre_rank']>=max(s)-2]"
      ],
      "metadata": {
        "id": "Fi7MXdBMvmtS"
      },
      "execution_count": 19,
      "outputs": []
    },
    {
      "cell_type": "code",
      "source": [
        "movie_ranking.sort_index().head()"
      ],
      "metadata": {
        "colab": {
          "base_uri": "https://localhost:8080/",
          "height": 424
        },
        "id": "gtRD9l2iZCZ_",
        "outputId": "ebcbecc3-a315-43e1-db42-a278c930fa6e"
      },
      "execution_count": 20,
      "outputs": [
        {
          "output_type": "execute_result",
          "data": {
            "text/html": [
              "\n",
              "  <div id=\"df-1a0c1e89-f556-49f0-b1ce-e2b94ad96d43\">\n",
              "    <div class=\"colab-df-container\">\n",
              "      <div>\n",
              "<style scoped>\n",
              "    .dataframe tbody tr th:only-of-type {\n",
              "        vertical-align: middle;\n",
              "    }\n",
              "\n",
              "    .dataframe tbody tr th {\n",
              "        vertical-align: top;\n",
              "    }\n",
              "\n",
              "    .dataframe thead th {\n",
              "        text-align: right;\n",
              "    }\n",
              "</style>\n",
              "<table border=\"1\" class=\"dataframe\">\n",
              "  <thead>\n",
              "    <tr style=\"text-align: right;\">\n",
              "      <th></th>\n",
              "      <th>title</th>\n",
              "      <th>year</th>\n",
              "      <th>kind</th>\n",
              "      <th>KMRB</th>\n",
              "      <th>genre</th>\n",
              "      <th>country</th>\n",
              "      <th>cast</th>\n",
              "      <th>director</th>\n",
              "      <th>runtime(min)</th>\n",
              "      <th>provider</th>\n",
              "      <th>genre_rank</th>\n",
              "    </tr>\n",
              "  </thead>\n",
              "  <tbody>\n",
              "    <tr>\n",
              "      <th>1</th>\n",
              "      <td>나 홀로 집에(Home Alone)</td>\n",
              "      <td>1990</td>\n",
              "      <td>movie</td>\n",
              "      <td>전체관람가</td>\n",
              "      <td>[코미디, 어드벤처(모험), 가족]</td>\n",
              "      <td>미국</td>\n",
              "      <td>맥컬리 컬킨, 조 페시, 다니엘 스턴, 존 허드, 로버츠 블로썸, 캐서린 오하라, ...</td>\n",
              "      <td>크리스 콜럼버스</td>\n",
              "      <td>105.0</td>\n",
              "      <td>[디즈니+]</td>\n",
              "      <td>4</td>\n",
              "    </tr>\n",
              "    <tr>\n",
              "      <th>7</th>\n",
              "      <td>스파이더맨: 파 프롬 홈(Spider-Man: Far From Home)</td>\n",
              "      <td>2019</td>\n",
              "      <td>movie</td>\n",
              "      <td>12세이상관람가</td>\n",
              "      <td>[코미디, 액션, 어드벤처(모험), SF]</td>\n",
              "      <td>미국</td>\n",
              "      <td>톰 홀랜드, 젠데이아 콜먼, 사무엘 L. 잭슨, 코비 스멀더스, 존 파브로, 마리사...</td>\n",
              "      <td>존 왓츠</td>\n",
              "      <td>129.0</td>\n",
              "      <td>[seezn, 왓챠, 넷플릭스]</td>\n",
              "      <td>5</td>\n",
              "    </tr>\n",
              "    <tr>\n",
              "      <th>10</th>\n",
              "      <td>킹스맨: 골든 서클(Kingsman: The Golden Circle)</td>\n",
              "      <td>2017</td>\n",
              "      <td>movie</td>\n",
              "      <td>청소년관람불가</td>\n",
              "      <td>[코미디, 액션, 어드벤처(모험)]</td>\n",
              "      <td>미국, 영국</td>\n",
              "      <td>콜린 퍼스, 줄리안 무어, 태런 에저튼, 마크 스트롱, 할리 베리, 엘튼 존, 채닝...</td>\n",
              "      <td>매튜 본</td>\n",
              "      <td>141.0</td>\n",
              "      <td>[디즈니+]</td>\n",
              "      <td>4</td>\n",
              "    </tr>\n",
              "    <tr>\n",
              "      <th>27</th>\n",
              "      <td>나 홀로 집에 2 - 뉴욕을 헤매다(Home Alone 2)</td>\n",
              "      <td>1992</td>\n",
              "      <td>movie</td>\n",
              "      <td>전체관람가</td>\n",
              "      <td>[코미디, 액션, 스릴러, 가족]</td>\n",
              "      <td>미국</td>\n",
              "      <td>존 허드, 맥컬리 컬킨, 캐서린 오하라, 다니엘 스턴, 조 페시, 에디 브랙큰, 데...</td>\n",
              "      <td>크리스 콜럼버스</td>\n",
              "      <td>118.0</td>\n",
              "      <td>[디즈니+]</td>\n",
              "      <td>4</td>\n",
              "    </tr>\n",
              "    <tr>\n",
              "      <th>72</th>\n",
              "      <td>나 홀로 집에 3(Home Alone 3)</td>\n",
              "      <td>1997</td>\n",
              "      <td>movie</td>\n",
              "      <td>전체관람가</td>\n",
              "      <td>[드라마, 코미디, 가족]</td>\n",
              "      <td>미국</td>\n",
              "      <td>알렉스 디 린츠, 스칼릿 조핸슨, 마리안 셀즈, 오렉 크루파, 리아 킬스테트, 하빌...</td>\n",
              "      <td>라자 고스넬</td>\n",
              "      <td>103.0</td>\n",
              "      <td>[디즈니+]</td>\n",
              "      <td>4</td>\n",
              "    </tr>\n",
              "  </tbody>\n",
              "</table>\n",
              "</div>\n",
              "      <button class=\"colab-df-convert\" onclick=\"convertToInteractive('df-1a0c1e89-f556-49f0-b1ce-e2b94ad96d43')\"\n",
              "              title=\"Convert this dataframe to an interactive table.\"\n",
              "              style=\"display:none;\">\n",
              "        \n",
              "  <svg xmlns=\"http://www.w3.org/2000/svg\" height=\"24px\"viewBox=\"0 0 24 24\"\n",
              "       width=\"24px\">\n",
              "    <path d=\"M0 0h24v24H0V0z\" fill=\"none\"/>\n",
              "    <path d=\"M18.56 5.44l.94 2.06.94-2.06 2.06-.94-2.06-.94-.94-2.06-.94 2.06-2.06.94zm-11 1L8.5 8.5l.94-2.06 2.06-.94-2.06-.94L8.5 2.5l-.94 2.06-2.06.94zm10 10l.94 2.06.94-2.06 2.06-.94-2.06-.94-.94-2.06-.94 2.06-2.06.94z\"/><path d=\"M17.41 7.96l-1.37-1.37c-.4-.4-.92-.59-1.43-.59-.52 0-1.04.2-1.43.59L10.3 9.45l-7.72 7.72c-.78.78-.78 2.05 0 2.83L4 21.41c.39.39.9.59 1.41.59.51 0 1.02-.2 1.41-.59l7.78-7.78 2.81-2.81c.8-.78.8-2.07 0-2.86zM5.41 20L4 18.59l7.72-7.72 1.47 1.35L5.41 20z\"/>\n",
              "  </svg>\n",
              "      </button>\n",
              "      \n",
              "  <style>\n",
              "    .colab-df-container {\n",
              "      display:flex;\n",
              "      flex-wrap:wrap;\n",
              "      gap: 12px;\n",
              "    }\n",
              "\n",
              "    .colab-df-convert {\n",
              "      background-color: #E8F0FE;\n",
              "      border: none;\n",
              "      border-radius: 50%;\n",
              "      cursor: pointer;\n",
              "      display: none;\n",
              "      fill: #1967D2;\n",
              "      height: 32px;\n",
              "      padding: 0 0 0 0;\n",
              "      width: 32px;\n",
              "    }\n",
              "\n",
              "    .colab-df-convert:hover {\n",
              "      background-color: #E2EBFA;\n",
              "      box-shadow: 0px 1px 2px rgba(60, 64, 67, 0.3), 0px 1px 3px 1px rgba(60, 64, 67, 0.15);\n",
              "      fill: #174EA6;\n",
              "    }\n",
              "\n",
              "    [theme=dark] .colab-df-convert {\n",
              "      background-color: #3B4455;\n",
              "      fill: #D2E3FC;\n",
              "    }\n",
              "\n",
              "    [theme=dark] .colab-df-convert:hover {\n",
              "      background-color: #434B5C;\n",
              "      box-shadow: 0px 1px 3px 1px rgba(0, 0, 0, 0.15);\n",
              "      filter: drop-shadow(0px 1px 2px rgba(0, 0, 0, 0.3));\n",
              "      fill: #FFFFFF;\n",
              "    }\n",
              "  </style>\n",
              "\n",
              "      <script>\n",
              "        const buttonEl =\n",
              "          document.querySelector('#df-1a0c1e89-f556-49f0-b1ce-e2b94ad96d43 button.colab-df-convert');\n",
              "        buttonEl.style.display =\n",
              "          google.colab.kernel.accessAllowed ? 'block' : 'none';\n",
              "\n",
              "        async function convertToInteractive(key) {\n",
              "          const element = document.querySelector('#df-1a0c1e89-f556-49f0-b1ce-e2b94ad96d43');\n",
              "          const dataTable =\n",
              "            await google.colab.kernel.invokeFunction('convertToInteractive',\n",
              "                                                     [key], {});\n",
              "          if (!dataTable) return;\n",
              "\n",
              "          const docLinkHtml = 'Like what you see? Visit the ' +\n",
              "            '<a target=\"_blank\" href=https://colab.research.google.com/notebooks/data_table.ipynb>data table notebook</a>'\n",
              "            + ' to learn more about interactive tables.';\n",
              "          element.innerHTML = '';\n",
              "          dataTable['output_type'] = 'display_data';\n",
              "          await google.colab.output.renderOutput(dataTable, element);\n",
              "          const docLink = document.createElement('div');\n",
              "          docLink.innerHTML = docLinkHtml;\n",
              "          element.appendChild(docLink);\n",
              "        }\n",
              "      </script>\n",
              "    </div>\n",
              "  </div>\n",
              "  "
            ],
            "text/plain": [
              "                                       title  ...  genre_rank\n",
              "1                        나 홀로 집에(Home Alone)  ...           4\n",
              "7   스파이더맨: 파 프롬 홈(Spider-Man: Far From Home)  ...           5\n",
              "10   킹스맨: 골든 서클(Kingsman: The Golden Circle)  ...           4\n",
              "27         나 홀로 집에 2 - 뉴욕을 헤매다(Home Alone 2)  ...           4\n",
              "72                   나 홀로 집에 3(Home Alone 3)  ...           4\n",
              "\n",
              "[5 rows x 11 columns]"
            ]
          },
          "metadata": {},
          "execution_count": 20
        }
      ]
    },
    {
      "cell_type": "code",
      "source": [
        "movie_ranking.info()"
      ],
      "metadata": {
        "colab": {
          "base_uri": "https://localhost:8080/"
        },
        "id": "2E6qp8sr5iy9",
        "outputId": "df98d4b6-68b2-4778-8349-2b876f9e0b34"
      },
      "execution_count": 10,
      "outputs": [
        {
          "output_type": "stream",
          "name": "stdout",
          "text": [
            "<class 'pandas.core.frame.DataFrame'>\n",
            "Int64Index: 8 entries, 1684 to 3421\n",
            "Data columns (total 11 columns):\n",
            " #   Column        Non-Null Count  Dtype  \n",
            "---  ------        --------------  -----  \n",
            " 0   title         8 non-null      object \n",
            " 1   year          8 non-null      int64  \n",
            " 2   kind          8 non-null      object \n",
            " 3   KMRB          7 non-null      object \n",
            " 4   genre         8 non-null      object \n",
            " 5   country       8 non-null      object \n",
            " 6   cast          5 non-null      object \n",
            " 7   director      8 non-null      object \n",
            " 8   runtime(min)  8 non-null      float64\n",
            " 9   provider      8 non-null      object \n",
            " 10  genre_rank    8 non-null      int64  \n",
            "dtypes: float64(1), int64(2), object(8)\n",
            "memory usage: 768.0+ bytes\n"
          ]
        }
      ]
    },
    {
      "cell_type": "code",
      "source": [
        "platform_pop = [x for x in movie_ranking.provider]\n",
        "platform_list = []\n",
        "for i in platform_pop:\n",
        "  for j in i:\n",
        "    platform_list.append(j)\n",
        "platform_list"
      ],
      "metadata": {
        "colab": {
          "base_uri": "https://localhost:8080/"
        },
        "id": "Oq1Tf0Xw4xvr",
        "outputId": "9f46dd0b-6ae9-492e-b18a-a50724c63852"
      },
      "execution_count": 11,
      "outputs": [
        {
          "output_type": "execute_result",
          "data": {
            "text/plain": [
              "['넷플릭스',\n",
              " '왓챠',\n",
              " '티빙',\n",
              " '웨이브',\n",
              " '넷플릭스',\n",
              " '아마존 프라임 비디오',\n",
              " '디즈니+',\n",
              " '디즈니+',\n",
              " '넷플릭스',\n",
              " '쿠팡플레이',\n",
              " 'seezn',\n",
              " '왓챠',\n",
              " '티빙',\n",
              " '웨이브']"
            ]
          },
          "metadata": {},
          "execution_count": 11
        }
      ]
    },
    {
      "cell_type": "code",
      "source": [
        "rank = {}\n",
        "for i in platform:\n",
        "  rank[i] = platform_list.count(i)\n",
        "rank"
      ],
      "metadata": {
        "colab": {
          "base_uri": "https://localhost:8080/"
        },
        "id": "5hZZEJD3zjQe",
        "outputId": "56754843-de38-4499-c3d9-30adcf5f004a"
      },
      "execution_count": 12,
      "outputs": [
        {
          "output_type": "execute_result",
          "data": {
            "text/plain": [
              "{'seezn': 1,\n",
              " '넷플릭스': 3,\n",
              " '디즈니+': 2,\n",
              " '라프텔': 0,\n",
              " '왓챠': 2,\n",
              " '웨이브': 2,\n",
              " '쿠팡플레이': 1,\n",
              " '티빙': 2}"
            ]
          },
          "metadata": {},
          "execution_count": 12
        }
      ]
    }
  ]
}