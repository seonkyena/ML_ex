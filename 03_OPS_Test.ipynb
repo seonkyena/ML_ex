{
 "cells": [
  {
   "cell_type": "code",
   "execution_count": null,
   "metadata": {},
   "outputs": [],
   "source": [
    "import warnings as wns\n",
    "wns.filterwarnings('ignore')"
   ]
  },
  {
   "cell_type": "code",
   "execution_count": null,
   "metadata": {},
   "outputs": [],
   "source": [
    "import numpy as np\n",
    "import pandas as pd\n",
    "import tensorflow.compat.v1 as tf\n",
    "tf.disable_v2_behavior()"
   ]
  },
  {
   "cell_type": "code",
   "execution_count": null,
   "metadata": {},
   "outputs": [],
   "source": [
    "X = tf.placeholder(dtype=tf.float32, shape=[None, 4]) \n",
    "Y = tf.placeholder(dtype=tf.float32, shape=[None, 1])\n",
    "a = tf.Variable(tf.random_uniform([4, 1]), dtype=tf.float32)\n",
    "b = tf.Variable(tf.random_uniform([1]), dtype=tf.float32)   \n",
    "y = tf.matmul(X, a) + b"
   ]
  },
  {
   "cell_type": "code",
   "execution_count": null,
   "metadata": {
    "scrolled": true
   },
   "outputs": [],
   "source": [
    "avgTemp, minTemp, maxTemp, avgWind = map(float, input('평균 기온, 최저 기온, 최고 기온, 풍속: ').split(' '))"
   ]
  },
  {
   "cell_type": "code",
   "execution_count": null,
   "metadata": {},
   "outputs": [],
   "source": [
    "sess = tf.Session()\n",
    "sess.run(tf.global_variables_initializer())\n",
    "\n",
    "saver = tf.train.Saver()\n",
    "saver.restore(sess, './data/temp_ops.cpkt')\n",
    "\n",
    "data = [[avgTemp, minTemp, maxTemp, avgWind], ]\n",
    "result = sess.run(y, feed_dict={X: data})\n",
    "print('평균 기온: {0:2.1f}, 최저 기온: {1:2.1f}, 최고 기온: {2:2.1f}, 풍속: {3:2.1f} 일 때 리그 OPS는 {4:1.3f} 입니다.'.format(avgTemp, mintemp, maxTemp, avgWind, result[0][0]))"
   ]
  }
 ],
 "metadata": {
  "kernelspec": {
   "display_name": "Python 3",
   "language": "python",
   "name": "python3"
  },
  "language_info": {
   "codemirror_mode": {
    "name": "ipython",
    "version": 3
   },
   "file_extension": ".py",
   "mimetype": "text/x-python",
   "name": "python",
   "nbconvert_exporter": "python",
   "pygments_lexer": "ipython3",
   "version": "3.7.6"
  }
 },
 "nbformat": 4,
 "nbformat_minor": 4
}
