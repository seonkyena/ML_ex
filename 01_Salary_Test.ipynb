{
 "cells": [
  {
   "cell_type": "code",
   "execution_count": 1,
   "metadata": {},
   "outputs": [],
   "source": [
    "import warnings as wns\n",
    "wns.filterwarnings('ignore')"
   ]
  },
  {
   "cell_type": "code",
   "execution_count": 2,
   "metadata": {},
   "outputs": [
    {
     "name": "stdout",
     "output_type": "stream",
     "text": [
      "WARNING:tensorflow:From C:\\ProgramData\\Anaconda3\\lib\\site-packages\\tensorflow\\python\\compat\\v2_compat.py:96: disable_resource_variables (from tensorflow.python.ops.variable_scope) is deprecated and will be removed in a future version.\n",
      "Instructions for updating:\n",
      "non-resource variables are not supported in the long term\n"
     ]
    }
   ],
   "source": [
    "import numpy as np\n",
    "import pandas as pd\n",
    "import tensorflow.compat.v1 as tf\n",
    "tf.disable_v2_behavior()"
   ]
  },
  {
   "cell_type": "code",
   "execution_count": 3,
   "metadata": {},
   "outputs": [],
   "source": [
    "X = tf.placeholder(dtype=tf.float32, shape=[None, 6]) \n",
    "Y = tf.placeholder(dtype=tf.float32, shape=[None, 1])\n",
    "a = tf.Variable(tf.random_uniform([6, 1]), dtype=tf.float32)\n",
    "b = tf.Variable(tf.random_uniform([1]), dtype=tf.float32)   \n",
    "y = tf.matmul(X, a) + b"
   ]
  },
  {
   "cell_type": "code",
   "execution_count": 4,
   "metadata": {},
   "outputs": [
    {
     "name": "stdout",
     "output_type": "stream",
     "text": [
      "타율, OPS, wRC+, WAR, RNG, WAA: 0.285 0.8 100 1.0 0.5 0.5\n"
     ]
    }
   ],
   "source": [
    "avg, ops, wrc, war, rng, waa = map(float, input('타율, OPS, wRC+, WAR, RNG, WAA: ').split(' '))"
   ]
  },
  {
   "cell_type": "code",
   "execution_count": 5,
   "metadata": {},
   "outputs": [
    {
     "name": "stdout",
     "output_type": "stream",
     "text": [
      "INFO:tensorflow:Restoring parameters from ./data/saved.cpkt\n",
      "타율: 0.285, OPS: 0.800, wRC+: 100.0, WAR: 1.00, RNG: 0.500, WAA: 0.500 일 때 적정 연봉은 21,771만원 입니다.\n"
     ]
    }
   ],
   "source": [
    "sess = tf.Session()\n",
    "sess.run(tf.global_variables_initializer())\n",
    "\n",
    "saver = tf.train.Saver()\n",
    "saver.restore(sess, './data/saved.cpkt')\n",
    "\n",
    "data = [[avg, ops, wrc, war, rng, waa], ]\n",
    "result = sess.run(y, feed_dict={X: data})\n",
    "print('타율: {0:0.3f}, OPS: {1:1.3f}, wRC+: {2:3.1f}, WAR: {3:2.2f}, RNG: {4:1.3f}, WAA: {5:1.3f} 일 때 적정 연봉은 {6:6,.0f}만원 입니다.'.format(avg, ops, wrc, war, rng, waa, result[0][0]))"
   ]
  }
 ],
 "metadata": {
  "kernelspec": {
   "display_name": "Python 3",
   "language": "python",
   "name": "python3"
  },
  "language_info": {
   "codemirror_mode": {
    "name": "ipython",
    "version": 3
   },
   "file_extension": ".py",
   "mimetype": "text/x-python",
   "name": "python",
   "nbconvert_exporter": "python",
   "pygments_lexer": "ipython3",
   "version": "3.7.6"
  }
 },
 "nbformat": 4,
 "nbformat_minor": 4
}
